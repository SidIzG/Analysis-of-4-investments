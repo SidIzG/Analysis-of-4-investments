{
 "cells": [
  {
   "cell_type": "code",
   "execution_count": 40,
   "metadata": {},
   "outputs": [
    {
     "name": "stdout",
     "output_type": "stream",
     "text": [
      "Mean of Etf col:  121.152960012\n",
      "Stanadard Deviation of ETF col:  12.563503845944297\n"
     ]
    },
    {
     "data": {
      "image/png": "[encoded data removed]",
      "text/plain": [
       "<Figure size 432x288 with 1 Axes>"
      ]
     },
     "metadata": {
      "needs_background": "light"
     },
     "output_type": "display_data"
    },
    {
     "data": {
      "image/png": "[encoded data removed]",
      "text/plain": [
       "<Figure size 432x288 with 1 Axes>"
      ]
     },
     "metadata": {
      "needs_background": "light"
     },
     "output_type": "display_data"
    },
    {
     "data": {
      "image/png": "[encoded data removed]",
      "text/plain": [
       "<Figure size 432x288 with 1 Axes>"
      ]
     },
     "metadata": {
      "needs_background": "light"
     },
     "output_type": "display_data"
    },
    {
     "name": "stdout",
     "output_type": "stream",
     "text": [
      "The confidence interval for one selected sample mean is [116.960294789294, 126.86690461070599]\n"
     ]
    },
    {
     "data": {
      "image/png": "[encoded data removed]",
      "text/plain": [
       "<Figure size 432x288 with 1 Axes>"
      ]
     },
     "metadata": {
      "needs_background": "light"
     },
     "output_type": "display_data"
    },
    {
     "name": "stdout",
     "output_type": "stream",
     "text": [
      "The confidence interval for one selected sample mean is [119.52784410074933, 124.29935529925065]\n",
      "t-test for one of 50 random samples\n",
      "\n",
      "\n",
      "t-test for one of 10 random samples\n",
      "\n",
      "\n",
      "z-test for one of 50 random samples\n",
      "pval is 0.2510524495369105\n",
      "\n",
      "\n",
      "z-test for one of ten random samples\n",
      "pval is 0.5424888849293902\n",
      "\n",
      "\n",
      "Chi-Square test for one of 50 random samples\n",
      "pval is 0.9308123797177644\n"
     ]
    }
   ],
   "source": [
    "import pandas as pd\n",
    "from statistics import mean, stdev\n",
    "import numpy as np\n",
    "import matplotlib.pyplot as plt\n",
    "import random\n",
    "import scipy.stats as stats\n",
    "\n",
    "\n",
    "\n",
    "df = pd.read_excel (r'C:\\Users\\arora\\Arnav\\Stevens\\MA541\\Data.xlsx', sheet_name='Sheet1')\n",
    "#print (df)\n",
    "\n",
    "#mean=df.mean()\n",
    "#stdv=df.std()\n",
    "#print(\"Mean of Etf col: \", mean[0])\n",
    "#print(\"Stanadard Deviation of ETF col: \", stdv[0])\n",
    "\n",
    "#print(df['Close_ETF'])\n",
    "#seq50_means=[]\n",
    "\n",
    "####DATA FOR 50 SEQUENTIAL GROUPS####     \n",
    "data=df['Close_ETF'].to_numpy() \n",
    "\n",
    "mean=np.mean(data)\n",
    "stdv=np.std(data)\n",
    "print(\"Mean of Etf col: \", mean)\n",
    "print(\"Stanadard Deviation of ETF col: \", stdv)\n",
    "\n",
    "\n",
    "split50=np.array_split(data,50)\n",
    "mean50=np.zeros(50)\n",
    "std50=np.zeros(50)\n",
    "for i in range(50):\n",
    "    mean50[i]=np.mean(split50[i])\n",
    "    std50[i]=np.std(split50[i])\n",
    "\n",
    "%matplotlib inline\n",
    "plt.hist(mean50, bins = 10)\n",
    "plt.title(\"Histogram of 50 sample means\")\n",
    "plt.show()\n",
    "\n",
    "####DATA FOR 10 SEQUENTIAL GROUPS####\n",
    "\n",
    "split10=np.array_split(data,10)\n",
    "mean10=np.zeros(10)\n",
    "std10=np.zeros(10)\n",
    "for i in range(10):\n",
    "    mean10[i]=np.mean(split10[i])\n",
    "    std10[i]=np.std(split10[i])\n",
    "\n",
    "%matplotlib inline\n",
    "plt.hist(mean10, bins = 10)\n",
    "plt.title(\"Histogram of 10 sample means\")\n",
    "plt.show()\n",
    "\n",
    "####DATA FOR 50 RANDOM GROUPS(WITH REPLACEMENT)####\n",
    "\n",
    "mean50rand=np.zeros(50)\n",
    "std50rand=np.zeros(50)\n",
    "conf_mean1=0\n",
    "conf_std1=0\n",
    "sample_data1=np.zeros(20)\n",
    "\n",
    "for i in range(50):\n",
    "    samplelist = random.choices(data, k=20)\n",
    "    mean50rand[i]=np.mean(samplelist)\n",
    "    std50rand[i]=np.std(samplelist)\n",
    "    if i==25:\n",
    "        conf_mean1=np.mean(samplelist)\n",
    "        conf_std1=np.std(samplelist)\n",
    "        sample_data1=samplelist\n",
    "    #print(samplelist3)\n",
    "#print(mean50rand)\n",
    "#print(std50rand)\n",
    "%matplotlib inline\n",
    "plt.hist(mean50rand, bins = 10)\n",
    "plt.title(\"Histogram of 50 random sample means\")\n",
    "plt.show()\n",
    "\n",
    "interval=1.96*conf_std1/np.sqrt(20)\n",
    "print(\"The confidence interval for one selected sample mean is\", [conf_mean-interval,conf_mean+interval])\n",
    "\n",
    "stats.ttest_1samp(a=sample_data1, popmean=100)\n",
    "\n",
    "####DATA FOR 10 RANDOM GROUPS(WITH REPLACEMENT)####\n",
    "\n",
    "mean10rand=np.zeros(10)\n",
    "std10rand=np.zeros(10)\n",
    "conf_mean2=0\n",
    "conf_std2=0\n",
    "sample_data2=np.zeros(100)\n",
    "\n",
    "for i in range(10):\n",
    "    samplelist = random.choices(data, k=100)\n",
    "    mean10rand[i]=np.mean(samplelist)\n",
    "    std10rand[i]=np.std(samplelist)\n",
    "    if i==5:\n",
    "        conf_mean2=np.mean(samplelist)\n",
    "        conf_std2=np.std(samplelist)\n",
    "        sample_data2=samplelist\n",
    "    #print(samplelist3)\n",
    "#print(mean50rand)\n",
    "#print(std50rand)\n",
    "\n",
    "%matplotlib inline\n",
    "plt.hist(mean10rand, bins = 10)\n",
    "plt.title(\"Histogram of 10 random sample means\")\n",
    "plt.show()\n",
    "\n",
    "interval=1.96*conf_std/np.sqrt(100)\n",
    "print(\"The confidence interval for one selected sample mean is\", [conf_mean-interval,conf_mean+interval])\n",
    "\n",
    "\n",
    "\n",
    "######HYPOTHESIS TESTING BELOW######\n",
    "\n",
    "\n",
    "##t-test for 1,2 of part 6####\n",
    "##uncomment all but one of the pairs to see result##\n",
    "\n",
    "print(\"t-test for one of 50 random samples\")\n",
    "stats.ttest_1samp(a=sample_data1, popmean=100)\n",
    "print(\"\\n\")\n",
    "\n",
    "print(\"t-test for one of 10 random samples\")\n",
    "stats.ttest_1samp(a=sample_data2, popmean=100)\n",
    "print(\"\\n\")\n",
    "\n",
    "##z-test for 1,2 for part 6##\n",
    "print(\"z-test for one of 50 random samples\")\n",
    "x_bar = conf_mean1 # sample mean \n",
    "n = 20 # number of values\n",
    "sigma =  stdv# sd of population\n",
    "mu = mean # Population mean \n",
    "\n",
    "z = (x_bar - mu)/(sigma/np.sqrt(n))\n",
    "pval = 1 - stats.norm.cdf(z)\n",
    "\n",
    "print(\"pval is\", pval)\n",
    "print(\"\\n\")\n",
    "print(\"z-test for one of ten random samples\")\n",
    "\n",
    "x_bar = conf_mean2 # sample mean \n",
    "n = 100 # number of values\n",
    "sigma =  stdv # sd of population\n",
    "mu = mean # Population mean \n",
    "\n",
    "z = (x_bar - mu)/(sigma/np.sqrt(n))\n",
    "pval = 1 - stats.norm.cdf(z)\n",
    "\n",
    "print(\"pval is\", pval)\n",
    "print(\"\\n\")\n",
    "##chi2 test for 3,4 of part 6 ##\n",
    "\n",
    "n=20\n",
    "s=conf_std1\n",
    "chi=(n-1)*(s**2)/(15**2)\n",
    "#print(chi)\n",
    "p_val=stats.distributions.chi2.sf(chi, n-1)\n",
    "print(\"Chi-Square test for one of 50 random samples\")\n",
    "print(\"pval is\", p_val)\n",
    "\n",
    "\n",
    "\n"
   ]
  },
  {
   "cell_type": "code",
   "execution_count": null,
   "metadata": {},
   "outputs": [],
   "source": []
  },
  {
   "cell_type": "code",
   "execution_count": null,
   "metadata": {},
   "outputs": [],
   "source": []
  },
  {
   "cell_type": "code",
   "execution_count": null,
   "metadata": {},
   "outputs": [],
   "source": []
  }
 ],
 "metadata": {
  "kernelspec": {
   "display_name": "Python 3",
   "language": "python",
   "name": "python3"
  },
  "language_info": {
   "codemirror_mode": {
    "name": "ipython",
    "version": 3
   },
   "file_extension": ".py",
   "mimetype": "text/x-python",
   "name": "python",
   "nbconvert_exporter": "python",
   "pygments_lexer": "ipython3",
   "version": "3.8.5"
  }
 },
 "nbformat": 4,
 "nbformat_minor": 4
}
